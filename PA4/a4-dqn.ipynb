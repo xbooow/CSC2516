{
  "nbformat": 4,
  "nbformat_minor": 0,
  "metadata": {
    "colab": {
      "name": "a4-dqn",
      "provenance": [],
      "collapsed_sections": []
    },
    "kernelspec": {
      "name": "python3",
      "display_name": "Python 3"
    },
    "accelerator": "GPU"
  },
  "cells": [
    {
      "cell_type": "markdown",
      "metadata": {
        "id": "V3szwJAdaoQa"
      },
      "source": [
        "## Enable rendering OpenAI Gym environments from CoLab\n",
        "\n",
        "In this assignemnt, We will use [OpenAI Gym](https://gym.openai.com/) for rendering game envionment for our agent to play and learn. It is possible and important to visualize the game your agent is playing, even on Colab. This section imports the necessary package and functions needed to generate a video in Colab. The video processing steps credit to [here](https://colab.research.google.com/drive/1flu31ulJlgiRL1dnN2ir8wGh9p7Zij2t)."
      ]
    },
    {
      "cell_type": "code",
      "metadata": {
        "id": "8rFaTvFab6Kz"
      },
      "source": [
        "!pip install gym pyvirtualdisplay > /dev/null 2>&1\n",
        "!apt-get install -y xvfb python-opengl ffmpeg > /dev/null 2>&1"
      ],
      "execution_count": null,
      "outputs": []
    },
    {
      "cell_type": "code",
      "metadata": {
        "id": "M9fFfA-gb8oC",
        "colab": {
          "base_uri": "https://localhost:8080/"
        },
        "outputId": "a8cb8051-78bf-4d89-83eb-dac364998fb5"
      },
      "source": [
        "!apt-get update > /dev/null 2>&1\n",
        "!apt-get install cmake > /dev/null 2>&1\n",
        "!pip install --upgrade setuptools 2>&1\n",
        "!pip install ez_setup > /dev/null 2>&1\n",
        "!pip install gym[atari] > /dev/null 2>&1"
      ],
      "execution_count": null,
      "outputs": [
        {
          "output_type": "stream",
          "text": [
            "Requirement already up-to-date: setuptools in /usr/local/lib/python3.7/dist-packages (54.2.0)\n"
          ],
          "name": "stdout"
        }
      ]
    },
    {
      "cell_type": "markdown",
      "metadata": {
        "id": "QfTPg6uZckCm"
      },
      "source": [
        "Import openAI gym and define the functions used to show the video."
      ]
    },
    {
      "cell_type": "code",
      "metadata": {
        "id": "JLl9cs6ncAf0"
      },
      "source": [
        "import gym\n",
        "from gym.wrappers import Monitor\n",
        "import glob\n",
        "import io\n",
        "import base64\n",
        "from IPython.display import HTML\n",
        "from pyvirtualdisplay import Display\n",
        "from IPython import display as ipythondisplay\n",
        "\n",
        "display = Display(visible=0, size=(1400, 900))\n",
        "display.start()\n",
        "\n",
        "\"\"\"\n",
        "Utility functions to enable video recording of gym environment \n",
        "and displaying it.\n",
        "To enable video, just do \"env = wrap_env(env)\"\"\n",
        "\"\"\"\n",
        "\n",
        "def show_video():\n",
        "  mp4list = glob.glob('video/*.mp4')\n",
        "  if len(mp4list) > 0:\n",
        "    mp4 = mp4list[0]\n",
        "    video = io.open(mp4, 'r+b').read()\n",
        "    encoded = base64.b64encode(video)\n",
        "    ipythondisplay.display(HTML(data='''<video alt=\"test\" autoplay \n",
        "                loop controls style=\"height: 400px;\">\n",
        "                <source src=\"data:video/mp4;base64,{0}\" type=\"video/mp4\" />\n",
        "             </video>'''.format(encoded.decode('ascii'))))\n",
        "  else: \n",
        "    print(\"Could not find video\")\n",
        "    \n",
        "\n",
        "def wrap_env(env):\n",
        "  env = Monitor(env, './video', force=True)\n",
        "  return env"
      ],
      "execution_count": null,
      "outputs": []
    },
    {
      "cell_type": "markdown",
      "metadata": {
        "id": "UHkrflTWakKd"
      },
      "source": [
        "Import other packages:\n",
        "\n",
        "We will use Pytorch for building and learning our DQN network."
      ]
    },
    {
      "cell_type": "code",
      "metadata": {
        "id": "9KvZYSl6RrzD"
      },
      "source": [
        "import torch\n",
        "from torch import nn\n",
        "import copy\n",
        "from collections import deque\n",
        "import random\n",
        "from tqdm import tqdm\n",
        "import matplotlib.pyplot as plt"
      ],
      "execution_count": null,
      "outputs": []
    },
    {
      "cell_type": "markdown",
      "metadata": {
        "id": "zrLGCk-3ditk"
      },
      "source": [
        "## Run the game with random agent."
      ]
    },
    {
      "cell_type": "code",
      "metadata": {
        "id": "ZMcGALcWeWfh",
        "colab": {
          "base_uri": "https://localhost:8080/",
          "height": 455
        },
        "outputId": "c808c8c0-3f0f-4b12-d610-9b5f7b512351"
      },
      "source": [
        "from torch import randint\n",
        "from time import sleep\n",
        "\n",
        "env = wrap_env(gym.make('CartPole-v0'))\n",
        "reward_arr = []\n",
        "episode_count = 20\n",
        "for i in tqdm(range(episode_count)):\n",
        "    obs, done, rew = env.reset(), False, 0\n",
        "    env.render()\n",
        "    while not done:\n",
        "        A = randint(0, env.action_space.n, (1,))\n",
        "        obs, reward, done, info = env.step(A.item())\n",
        "        rew += reward\n",
        "        sleep(0.01)\n",
        "    reward_arr.append(rew)\n",
        "print(\"average reward per episode :\", sum(reward_arr) / len(reward_arr))\n",
        "env.close()\n",
        "show_video()"
      ],
      "execution_count": null,
      "outputs": [
        {
          "output_type": "stream",
          "text": [
            "100%|██████████| 20/20 [00:05<00:00,  3.89it/s]"
          ],
          "name": "stderr"
        },
        {
          "output_type": "stream",
          "text": [
            "average reward per episode : 21.05\n"
          ],
          "name": "stdout"
        },
        {
          "output_type": "stream",
          "text": [
            "\n"
          ],
          "name": "stderr"
        },
        {
          "output_type": "display_data",
          "data": {
            "text/html": [
              "<video alt=\"test\" autoplay \n",
              "                loop controls style=\"height: 400px;\">\n",
              "                <source src=\"data:video/mp4;base64,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\" type=\"video/mp4\" />\n",
              "             </video>"
            ],
            "text/plain": [
              "<IPython.core.display.HTML object>"
            ]
          },
          "metadata": {
            "tags": []
          }
        }
      ]
    },
    {
      "cell_type": "markdown",
      "metadata": {
        "id": "Ope0zHAjfXQh"
      },
      "source": [
        "You can see that a random agent is having trouble balancing the CartPole, just like you. However, a difficult game for human may be very simple to a computer. Let's see how we can use DQN to train a agent. "
      ]
    },
    {
      "cell_type": "markdown",
      "metadata": {
        "id": "OjP_2jn3SFgv"
      },
      "source": [
        "## Experience Replay\n",
        "\n",
        "The technique of experience replay was first proposed in to resolve temporal correlation in the input data by mixing recent experiences as well past experiences, essentially forcing the input to become independent and identically distributed (i.i.d.). It has been shown that this greatly stabilizes\n",
        "and improves the DQN training procedure."
      ]
    },
    {
      "cell_type": "code",
      "metadata": {
        "id": "SoxW1Jlnk8mS"
      },
      "source": [
        "class ExperienceReplay(object):\n",
        "      def __init__(self, length):\n",
        "        self.experience_replay = deque(maxlen=length)\n",
        "\n",
        "      def collect(self, experience):\n",
        "        self.experience_replay.append(experience)\n",
        "        return\n",
        "\n",
        "      def sample_from_experience(self, sample_size):\n",
        "        if len(self.experience_replay) < sample_size:\n",
        "            sample_size = len(self.experience_replay)\n",
        "        sample = random.sample(self.experience_replay, sample_size)\n",
        "        state = torch.tensor([exp[0] for exp in sample]).float()\n",
        "        action = torch.tensor([exp[1] for exp in sample]).float()\n",
        "        reward = torch.tensor([exp[2] for exp in sample]).float()\n",
        "        next_state = torch.tensor([exp[3] for exp in sample]).float()\n",
        "        return state, action, reward, next_state\n"
      ],
      "execution_count": null,
      "outputs": []
    },
    {
      "cell_type": "markdown",
      "metadata": {
        "id": "CgXwmV2im4Sx"
      },
      "source": [
        "## Build our DQN Network\n",
        "\n",
        "We will use a simple multi-layer neural network to learn the optimal actions. We will use Adam Optimizor and MSE loss for training."
      ]
    },
    {
      "cell_type": "code",
      "metadata": {
        "id": "Wmd1pfuRm7MQ"
      },
      "source": [
        "class DQN_Network:\n",
        "\n",
        "    def __init__(self, layer_size_list, lr, seed=1423):\n",
        "        torch.manual_seed(seed)\n",
        "        self.policy_net = self.create_network(layer_size_list)\n",
        "        self.target_net = copy.deepcopy(self.policy_net)\n",
        "  \n",
        "        self.loss_fn = torch.nn.MSELoss()\n",
        "        self.optimizer = torch.optim.Adam(self.policy_net.parameters(), lr=lr)\n",
        "\n",
        "        self.step = 0\n",
        "        self.gamma = torch.tensor(0.95).float()\n",
        "        return\n",
        "\n",
        "    def create_network(self, layer_size_list):\n",
        "        assert len(layer_size_list) > 1      #len(layer_size_list)=3\n",
        "\n",
        "        layers = []\n",
        "        for i in range(len(layer_size_list) - 1):\n",
        "            linear = nn.Linear(layer_size_list[i], layer_size_list[i + 1])\n",
        "\n",
        "            if i < len(layer_size_list) - 2:\n",
        "              activation = nn.Tanh()\n",
        "            else:\n",
        "              activation = nn.Identity()\n",
        "\n",
        "            layers += (linear, activation)\n",
        "        return nn.Sequential(*layers)\n",
        "\n",
        "    def load_pretrained_model(self, model_path):\n",
        "        self.policy_net.load_state_dict(torch.load(model_path))\n",
        "\n",
        "    def save_trained_model(self, model_path=\"cartpole-dqn.pth\"):\n",
        "        torch.save(self.policy_net.state_dict(), model_path)\n"
      ],
      "execution_count": null,
      "outputs": []
    },
    {
      "cell_type": "markdown",
      "metadata": {
        "id": "xKVV16YctASm"
      },
      "source": [
        "## **[Your task]**: complete the function that chooses the next action\n",
        "\n",
        "Choose next action based on **$\\epsilon$-greedy**:\n",
        "\n",
        "\\begin{align}\\text{where} \\quad \\mathcal{a_{t+1}} = \\begin{cases}\n",
        "     \\text{argmax}_{a}Q(a, s)  & \\text{with probability }: 1 - \\epsilon, \\text{exploitation}\\\\\n",
        "     \\text{Uniform}\\{a_{1},...,a_{n}\\} & \\text{with probability}:   \\epsilon, \\text{exploration} \\\\\n",
        "   \\end{cases}\\end{align}"
      ]
    },
    {
      "cell_type": "code",
      "metadata": {
        "id": "iE0gVweYs8xW"
      },
      "source": [
        "def get_action(model, state, action_space_len, epsilon):\n",
        "    # We do not require gradient at this point, because this function will be used either\n",
        "    # during experience collection or during inference\n",
        "\n",
        "    with torch.no_grad():\n",
        "        Qp = model.policy_net(torch.from_numpy(state).float())\n",
        "    Q_value, action = torch.max(Qp, axis=0)      \n",
        "\n",
        "    ## TODO: select action and action\n",
        "    sample = random.random()\n",
        "    if sample > epsilon:\n",
        "      return action\n",
        "    else:\n",
        "      return torch.randint(0,action_space_len,(1,))"
      ],
      "execution_count": null,
      "outputs": []
    },
    {
      "cell_type": "markdown",
      "metadata": {
        "id": "iF9a5-IbazjQ"
      },
      "source": [
        "### **[Your task]**: complete the function that train the network for one step\n",
        "\n",
        "Here, you can find an ``train`` function that performs a\n",
        "single step of the optimization. \n",
        "\n",
        "For our training update rule, the loss you are trying to minimize is:\n",
        "\n",
        "\\begin{align}\\text{loss} = Q(s, a) - (r + \\gamma \\max_a Q(s', a))\\end{align}"
      ]
    },
    {
      "cell_type": "code",
      "metadata": {
        "id": "mtx4FAiab0Hp"
      },
      "source": [
        "def train(model, batch_size):\n",
        "    state, action, reward, next_state = memory.sample_from_experience(sample_size=batch_size)\n",
        "\n",
        "    # TODO: predict expected return of current state using main network\n",
        "    state_action_values, _ = torch.max(model.policy_net(state), axis = 1)\n",
        "\n",
        "    # TODO: get target return using target network\n",
        "    Q_next, _ = torch.max(model.target_net(next_state), axis=1)\n",
        "    next_state_action_values = Q_next * model.gamma + reward\n",
        "\n",
        "    # TODO: compute the loss\n",
        "    loss = model.loss_fn(state_action_values, next_state_action_values)\n",
        "\n",
        "    model.optimizer.zero_grad()\n",
        "    loss.backward(retain_graph=True)\n",
        "    model.optimizer.step()\n",
        "\n",
        "    model.step += 1\n",
        "    if model.step % 5 == 0:\n",
        "        model.target_net.load_state_dict(model.policy_net.state_dict())\n",
        "\n",
        "    return loss.item()"
      ],
      "execution_count": null,
      "outputs": []
    },
    {
      "cell_type": "markdown",
      "metadata": {
        "id": "uskoe87Uz-Jg"
      },
      "source": [
        "### **[Your task]**: Finish the training loop\n",
        "\n",
        "In this part, you can play around with ```exp_replay_size```, ```episode```, ```epsilon``` and the \"episodo decay\" logic to train your model."
      ]
    },
    {
      "cell_type": "code",
      "metadata": {
        "id": "3NfNnyD6SPpN",
        "colab": {
          "base_uri": "https://localhost:8080/"
        },
        "outputId": "ccbafd2e-a816-4cda-9b62-1ea8424fcd67"
      },
      "source": [
        "# Create the model\n",
        "env = gym.make('CartPole-v0')\n",
        "input_dim = env.observation_space.shape[0]       #4\n",
        "output_dim = env.action_space.n                  #2\n",
        "agent = DQN_Network(layer_size_list=[input_dim, 64, output_dim], lr=1e-3)\n",
        "\n",
        "# Main training loop\n",
        "losses_list, reward_list, episode_len_list, epsilon_list = [], [], [], []\n",
        "\n",
        "# TODO: try different values, it normally takes more than 6k episodes to train\n",
        "exp_replay_size = 256\n",
        "memory = ExperienceReplay(exp_replay_size)\n",
        "episodes = 10000\n",
        "epsilon = 1 # episilon start from 1 and decay gradually. \n",
        "\n",
        "# initiliaze experiance replay\n",
        "index = 0\n",
        "for i in range(exp_replay_size):\n",
        "    obs = env.reset()  #len(obs)=4\n",
        "    done = False\n",
        "    while not done:\n",
        "        A = get_action(agent, obs, env.action_space.n, epsilon=1)\n",
        "        obs_next, reward, done, _ = env.step(A.item())\n",
        "        memory.collect([obs, A.item(), reward, obs_next])\n",
        "        obs = obs_next\n",
        "        index += 1\n",
        "        if index > exp_replay_size:\n",
        "            break\n",
        "\n",
        "index = 128\n",
        "for i in tqdm(range(episodes)):\n",
        "    obs, done, losses, ep_len, rew = env.reset(), False, 0, 0, 0\n",
        "    while not done:\n",
        "        ep_len += 1\n",
        "        A = get_action(agent, obs, env.action_space.n, epsilon)\n",
        "        obs_next, reward, done, _ = env.step(A.item())\n",
        "        memory.collect([obs, A.item(), reward, obs_next])\n",
        "\n",
        "        obs = obs_next\n",
        "        rew += reward\n",
        "        index += 1\n",
        "\n",
        "        if index > 128:\n",
        "            index = 0\n",
        "            for j in range(4):\n",
        "                loss = train(agent, batch_size=16)\n",
        "                losses += loss\n",
        "    \n",
        "    # TODO: add epsilon decay rule here! \n",
        "    epsilon = max(0.05, epsilon - 0.0001)\n",
        "\n",
        "    losses_list.append(losses / ep_len), reward_list.append(rew)\n",
        "    episode_len_list.append(ep_len), epsilon_list.append(epsilon)\n",
        "\n",
        "print(\"Saving trained model\")\n",
        "agent.save_trained_model(\"cartpole-dqn.pth\")"
      ],
      "execution_count": null,
      "outputs": [
        {
          "output_type": "stream",
          "text": [
            "100%|██████████| 10000/10000 [01:22<00:00, 121.22it/s]"
          ],
          "name": "stderr"
        },
        {
          "output_type": "stream",
          "text": [
            "Saving trained model\n"
          ],
          "name": "stdout"
        },
        {
          "output_type": "stream",
          "text": [
            "\n"
          ],
          "name": "stderr"
        }
      ]
    },
    {
      "cell_type": "markdown",
      "metadata": {
        "id": "CCow7jNXf5YT"
      },
      "source": [
        "## Last Step: evaluate your trained model!\n",
        "\n",
        "First we can plot the reward vs. episode:"
      ]
    },
    {
      "cell_type": "code",
      "metadata": {
        "id": "-Hy_FP7yeXA4",
        "colab": {
          "base_uri": "https://localhost:8080/",
          "height": 295
        },
        "outputId": "418a3cfa-dd85-4cd9-fec8-ad77f03df0f8"
      },
      "source": [
        "def plot_reward(r):\n",
        "    plt.figure(2)\n",
        "    plt.clf()\n",
        "    plt.title('Result')\n",
        "    plt.xlabel('Episode')\n",
        "    plt.ylabel('Reward')\n",
        "    plt.plot(r)\n",
        "\n",
        "plot_reward(reward_list)"
      ],
      "execution_count": null,
      "outputs": [
        {
          "output_type": "display_data",
          "data": {
            "image/png": "[encoded data removed]",
            "text/plain": [
              "<Figure size 432x288 with 1 Axes>"
            ]
          },
          "metadata": {
            "tags": [],
            "needs_background": "light"
          }
        }
      ]
    },
    {
      "cell_type": "code",
      "metadata": {
        "id": "EMEivKldTGVG",
        "colab": {
          "base_uri": "https://localhost:8080/",
          "height": 455
        },
        "outputId": "76c96941-0876-45ab-8e59-27e8b92296d8"
      },
      "source": [
        "env = wrap_env(gym.make('CartPole-v0'))\n",
        "\n",
        "input_dim = env.observation_space.shape[0]\n",
        "output_dim = env.action_space.n\n",
        "model_validate = DQN_Network(layer_size_list=[input_dim, 64, output_dim], lr=1e-3)\n",
        "model_validate.load_pretrained_model(\"cartpole-dqn.pth\")\n",
        "\n",
        "reward_arr = []\n",
        "for i in tqdm(range(300)):\n",
        "    obs, done, rew = env.reset(), False, 0\n",
        "    env.render()\n",
        "    while not done:\n",
        "        A = get_action(model_validate, obs, env.action_space.n, epsilon=0)\n",
        "        obs, reward, done, info = env.step(A.item())\n",
        "        rew += reward\n",
        "        # sleep(0.01)\n",
        "\n",
        "    reward_arr.append(rew)\n",
        "print(\"average reward per episode :\", sum(reward_arr) / len(reward_arr))\n",
        "env.close()\n",
        "show_video()"
      ],
      "execution_count": null,
      "outputs": [
        {
          "output_type": "stream",
          "text": [
            "100%|██████████| 300/300 [00:17<00:00, 17.36it/s]\n"
          ],
          "name": "stderr"
        },
        {
          "output_type": "stream",
          "text": [
            "average reward per episode : 200.0\n"
          ],
          "name": "stdout"
        },
        {
          "output_type": "display_data",
          "data": {
            "text/html": [
              "<video alt=\"test\" autoplay \n",
              "                loop controls style=\"height: 400px;\">\n",
              "                <source src=\"data:video/mp4;base64,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\" type=\"video/mp4\" />\n",
              "             </video>"
            ],
            "text/plain": [
              "<IPython.core.display.HTML object>"
            ]
          },
          "metadata": {
            "tags": []
          }
        }
      ]
    }
  ]
}